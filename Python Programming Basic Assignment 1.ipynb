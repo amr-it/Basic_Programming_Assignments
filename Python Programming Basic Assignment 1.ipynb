{
 "cells": [
  {
   "cell_type": "markdown",
   "id": "b0f00a2f",
   "metadata": {},
   "source": [
    "1. Write a Python program to print \"Hello Python\" ?"
   ]
  },
  {
   "cell_type": "code",
   "execution_count": 11,
   "id": "ba25669d",
   "metadata": {},
   "outputs": [
    {
     "name": "stdout",
     "output_type": "stream",
     "text": [
      "Hello Python\n"
     ]
    }
   ],
   "source": [
    "print (\"Hello Python\")"
   ]
  },
  {
   "cell_type": "markdown",
   "id": "20a87b65",
   "metadata": {},
   "source": [
    "2. Write a Python program to do arithmetical operations addition and division.?"
   ]
  },
  {
   "cell_type": "code",
   "execution_count": 13,
   "id": "b975f736",
   "metadata": {},
   "outputs": [
    {
     "name": "stdout",
     "output_type": "stream",
     "text": [
      "Enter 1st Number 1\n",
      "Enter 2nd Number 2\n",
      "Sum of 2 numbers is  3\n",
      "1st Number divided by 2nd number is  0.5\n"
     ]
    }
   ],
   "source": [
    "a=int(input(\"Enter 1st Number \"))\n",
    "b=int(input(\"Enter 2nd Number \"))\n",
    "print(\"Sum of 2 numbers is \",(a+b))\n",
    "print(\"1st Number divided by 2nd number is \",(a/b))"
   ]
  },
  {
   "cell_type": "markdown",
   "id": "f23861e6",
   "metadata": {},
   "source": [
    "3. Write a Python program to find the area of a triangle?"
   ]
  },
  {
   "cell_type": "code",
   "execution_count": 8,
   "id": "d274ea08",
   "metadata": {},
   "outputs": [
    {
     "name": "stdout",
     "output_type": "stream",
     "text": [
      "Enter length of 1st side: 5\n",
      "Enter length of 2nd side: 6\n",
      "Enter length of 3rd side: 7\n",
      "Area of Triangle is:  14.696938456699069\n"
     ]
    }
   ],
   "source": [
    "a=int(input(\"Enter length of 1st side: \"))\n",
    "b=int(input(\"Enter length of 2nd side: \"))\n",
    "c=int(input(\"Enter length of 3rd side: \"))\n",
    "s=(a+b+c)/2\n",
    "Area = ((s-a)*(s-b)*(s-c)*(s))**0.5\n",
    "print(\"Area of Triangle is: \",Area)"
   ]
  },
  {
   "cell_type": "markdown",
   "id": "0a490700",
   "metadata": {},
   "source": [
    "4. Write a Python program to swap two variables?"
   ]
  },
  {
   "cell_type": "code",
   "execution_count": 1,
   "id": "34b58cf6",
   "metadata": {},
   "outputs": [
    {
     "name": "stdout",
     "output_type": "stream",
     "text": [
      "Enter 1st variable: 1\n",
      "Enter 2nd variable: 2\n",
      "Value of 1st variable now is:  2\n",
      "Value of 2nd variable now is:  1\n"
     ]
    }
   ],
   "source": [
    "x=int(input(\"Enter 1st variable: \"))\n",
    "y=int(input(\"Enter 2nd variable: \"))\n",
    "temp=x\n",
    "x=y\n",
    "y=temp\n",
    "print(\"Value of 1st variable now is: \",x)\n",
    "print(\"Value of 2nd variable now is: \",y)"
   ]
  },
  {
   "cell_type": "markdown",
   "id": "029372e3",
   "metadata": {},
   "source": [
    "5. Write a Python program to generate a random number?"
   ]
  },
  {
   "cell_type": "code",
   "execution_count": 2,
   "id": "05e0b43e",
   "metadata": {},
   "outputs": [
    {
     "name": "stdout",
     "output_type": "stream",
     "text": [
      "Random number is  0.042772924424591796\n"
     ]
    }
   ],
   "source": [
    "import random\n",
    "num=random.random()\n",
    "print(\"Random number is \",num)"
   ]
  }
 ],
 "metadata": {
  "kernelspec": {
   "display_name": "Python 3 (ipykernel)",
   "language": "python",
   "name": "python3"
  },
  "language_info": {
   "codemirror_mode": {
    "name": "ipython",
    "version": 3
   },
   "file_extension": ".py",
   "mimetype": "text/x-python",
   "name": "python",
   "nbconvert_exporter": "python",
   "pygments_lexer": "ipython3",
   "version": "3.9.13"
  }
 },
 "nbformat": 4,
 "nbformat_minor": 5
}
