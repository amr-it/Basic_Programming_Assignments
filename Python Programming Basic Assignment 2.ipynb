{
 "cells": [
  {
   "cell_type": "markdown",
   "id": "7886cd69",
   "metadata": {},
   "source": [
    "1. Write a Python program to convert kilometers to miles?"
   ]
  },
  {
   "cell_type": "code",
   "execution_count": 13,
   "id": "f7503608",
   "metadata": {},
   "outputs": [
    {
     "name": "stdout",
     "output_type": "stream",
     "text": [
      "Enter distance in kilometers: 2\n",
      "The distance in miles is  1.242742\n"
     ]
    }
   ],
   "source": [
    "a=float(input(\"Enter distance in kilometers: \"))\n",
    "print(\"The distance in miles is \",(a*0.621371))"
   ]
  },
  {
   "cell_type": "markdown",
   "id": "8737a559",
   "metadata": {},
   "source": [
    "2. Write a Python program to convert Celsius to Fahrenheit?"
   ]
  },
  {
   "cell_type": "code",
   "execution_count": 14,
   "id": "648d59a1",
   "metadata": {},
   "outputs": [
    {
     "name": "stdout",
     "output_type": "stream",
     "text": [
      "Provide temperature in Celsius: 20\n",
      "The temperature in Fahrenheit is  68.0\n"
     ]
    }
   ],
   "source": [
    "a=float(input(\"Provide temperature in Celsius: \"))\n",
    "print(\"The temperature in Fahrenheit is \",((a*1.8)+32))"
   ]
  },
  {
   "cell_type": "markdown",
   "id": "8d3983a3",
   "metadata": {},
   "source": [
    "3. Write a Python program to display calendar?"
   ]
  },
  {
   "cell_type": "code",
   "execution_count": 15,
   "id": "fdc482c0",
   "metadata": {},
   "outputs": [
    {
     "name": "stdout",
     "output_type": "stream",
     "text": [
      "Enter year of calender: 2023\n",
      "Enter month of calender: 1\n",
      "    January 2023\n",
      "Mo Tu We Th Fr Sa Su\n",
      "                   1\n",
      " 2  3  4  5  6  7  8\n",
      " 9 10 11 12 13 14 15\n",
      "16 17 18 19 20 21 22\n",
      "23 24 25 26 27 28 29\n",
      "30 31\n",
      "\n"
     ]
    }
   ],
   "source": [
    "import calendar\n",
    "yy=int(input(\"Enter year of calender: \"))\n",
    "mm=int(input(\"Enter month of calender: \"))\n",
    "print(calendar.month(yy,mm))"
   ]
  },
  {
   "cell_type": "markdown",
   "id": "b72b7bc3",
   "metadata": {},
   "source": [
    "4. Write a Python program to solve quadratic equation?"
   ]
  },
  {
   "cell_type": "code",
   "execution_count": 17,
   "id": "528eda25",
   "metadata": {},
   "outputs": [
    {
     "name": "stdout",
     "output_type": "stream",
     "text": [
      "Enter value of a: 1\n",
      "Enter value of b: 5\n",
      "Enter value of c: 6\n",
      "The quadratic equation is: 1(x^2) + 5(x) + 6 = 0\n",
      "The roots of quadratic equation are:  -2.0 -3.0\n"
     ]
    }
   ],
   "source": [
    "a=int(input(\"Enter value of a: \"))\n",
    "b=int(input(\"Enter value of b: \"))\n",
    "c=int(input(\"Enter value of c: \"))\n",
    "print(f\"The quadratic equation is: {a}(x^2) + {b}(x) + {c} = 0\")\n",
    "D=(b**2)-4*a*c\n",
    "x=((-1)*b+(D**0.5))/2*a\n",
    "y=((-1)*b-(D**0.5))/2*a\n",
    "print(\"The roots of quadratic equation are: \",x,y)"
   ]
  },
  {
   "cell_type": "markdown",
   "id": "1d304a92",
   "metadata": {},
   "source": [
    "5. Write a Python program to swap two variables without temp variable?"
   ]
  },
  {
   "cell_type": "code",
   "execution_count": 18,
   "id": "f15d35b2",
   "metadata": {},
   "outputs": [
    {
     "name": "stdout",
     "output_type": "stream",
     "text": [
      "Enter first variable: 1\n",
      "Enter second variable: 2\n",
      "First Variable now is:  2\n",
      "Second Variable now is:  1\n"
     ]
    }
   ],
   "source": [
    "x=int(input(\"Enter first variable: \"))\n",
    "y=int(input(\"Enter second variable: \"))\n",
    "y,x=x,y\n",
    "print(\"First Variable now is: \",x)\n",
    "print(\"Second Variable now is: \",y)"
   ]
  }
 ],
 "metadata": {
  "kernelspec": {
   "display_name": "Python 3 (ipykernel)",
   "language": "python",
   "name": "python3"
  },
  "language_info": {
   "codemirror_mode": {
    "name": "ipython",
    "version": 3
   },
   "file_extension": ".py",
   "mimetype": "text/x-python",
   "name": "python",
   "nbconvert_exporter": "python",
   "pygments_lexer": "ipython3",
   "version": "3.9.13"
  }
 },
 "nbformat": 4,
 "nbformat_minor": 5
}
